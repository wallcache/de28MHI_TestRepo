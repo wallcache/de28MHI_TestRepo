{
 "cells": [
  {
   "cell_type": "code",
   "execution_count": 10,
   "metadata": {},
   "outputs": [
    {
     "name": "stdout",
     "output_type": "stream",
     "text": [
      "[{'City': 'Lake Fiona'}]\n"
     ]
    }
   ],
   "source": [
    "# City for VARCHAR 255\n",
    "\n",
    "import pandas as pd\n",
    "from faker import Faker\n",
    "from faker.providers import BaseProvider\n",
    "import csv\n",
    "\n",
    "faker = Faker([\"en_UK\"])\n",
    "output = []\n",
    "\n",
    "city = faker.city()\n",
    "if len(city) <= 255:\n",
    "    output.append({'City': city})\n",
    "\n",
    "print (output)"
   ]
  },
  {
   "cell_type": "code",
   "execution_count": 14,
   "metadata": {},
   "outputs": [
    {
     "name": "stdout",
     "output_type": "stream",
     "text": [
      "[{'City': 'Joeberg'}]\n"
     ]
    }
   ],
   "source": [
    "# City for VARCHAR 300\n",
    "\n",
    "import pandas as pd\n",
    "from faker import Faker\n",
    "from faker.providers import BaseProvider\n",
    "import csv\n",
    "\n",
    "faker = Faker([\"en_UK\"])\n",
    "output = []\n",
    "\n",
    "city = faker.city()\n",
    "if len(city) <= 300:\n",
    "    output.append({'City': city})\n",
    "\n",
    "print (output)"
   ]
  },
  {
   "cell_type": "code",
   "execution_count": 23,
   "metadata": {},
   "outputs": [
    {
     "name": "stdout",
     "output_type": "stream",
     "text": [
      "Speak draw firm perform director them quality four. Fly actually control cup nation. Heavy everything reason. End control soldier step debate country hour.\n",
      "Detail real ability act start.\n",
      "Money late example our win. Parent price somebody evening bit.\n"
     ]
    }
   ],
   "source": [
    "# Text VARCHAR 300\n",
    "\n",
    "from faker import Faker\n",
    "faker = Faker()\n",
    "\n",
    "def text():\n",
    "    return faker.text(300)\n",
    "\n",
    "\n",
    "print(text())"
   ]
  },
  {
   "cell_type": "code",
   "execution_count": 24,
   "metadata": {},
   "outputs": [
    {
     "name": "stdout",
     "output_type": "stream",
     "text": [
      "Must face future camera available hot. National issue condition writer. Truth son month now.\n",
      "Including matter important dog minute. According front by morning after.\n",
      "Woman owner court always wear. Contain those parent president what pressure music. Because executive program town walk Republican.\n"
     ]
    }
   ],
   "source": [
    "# Text VARCHAR 320\n",
    "\n",
    "from faker import Faker\n",
    "faker = Faker()\n",
    "\n",
    "def text():\n",
    "    return faker.text(320)\n",
    "\n",
    "\n",
    "print(text())"
   ]
  },
  {
   "cell_type": "code",
   "execution_count": 25,
   "metadata": {},
   "outputs": [
    {
     "name": "stdout",
     "output_type": "stream",
     "text": [
      "Scott Floyd\n"
     ]
    }
   ],
   "source": [
    "# submitter name VARCHAR 255\n",
    "\n",
    "from faker import Faker\n",
    "faker = Faker()\n",
    "\n",
    "def submitter_name():\n",
    "    first_name = faker.first_name()\n",
    "    last_name = faker.last_name()\n",
    "    full_name = first_name + ' ' + last_name\n",
    "    return full_name\n",
    "\n",
    "print(submitter_name())"
   ]
  },
  {
   "cell_type": "code",
   "execution_count": 26,
   "metadata": {},
   "outputs": [
    {
     "name": "stdout",
     "output_type": "stream",
     "text": [
      "Edge hand who break. Land medical create different. Then bar wonder occur.\n",
      "Environment recognize name three hold particular simply account. Action project entire care against about. Management rise property.\n"
     ]
    }
   ],
   "source": [
    "# summary VARCHAR 300 \n",
    "\n",
    "from faker import Faker\n",
    "faker = Faker()\n",
    "\n",
    "def summary():\n",
    "    return faker.text(300)\n",
    "\n",
    "\n",
    "print(summary())"
   ]
  },
  {
   "cell_type": "code",
   "execution_count": 27,
   "metadata": {},
   "outputs": [
    {
     "name": "stdout",
     "output_type": "stream",
     "text": [
      "Trouble cultural bill name. Law similar space those continue myself rather. Hot behind agreement war difference production.\n",
      "Sound up thought. Happen move meet answer expert far anything. Whole success east it lead old.\n"
     ]
    }
   ],
   "source": [
    "# supervisor notes VARCHAR 300 \n",
    "\n",
    "from faker import Faker\n",
    "faker = Faker()\n",
    "\n",
    "def supervisor_notes():\n",
    "    return faker.text(300)\n",
    "\n",
    "\n",
    "print(supervisor_notes())"
   ]
  },
  {
   "cell_type": "code",
   "execution_count": 84,
   "metadata": {},
   "outputs": [
    {
     "name": "stdout",
     "output_type": "stream",
     "text": [
      "berrycharles\n"
     ]
    }
   ],
   "source": [
    "# username VARCHAR 255\n",
    "\n",
    "from faker import Faker\n",
    "faker = Faker()\n",
    "\n",
    "def username():\n",
    "    return faker.user_name()\n",
    "\n",
    "print(username())"
   ]
  },
  {
   "cell_type": "code",
   "execution_count": 85,
   "metadata": {},
   "outputs": [
    {
     "name": "stdout",
     "output_type": "stream",
     "text": [
      "Collection low see share read. Really decision consumer measure audience pretty. Popular community attack size vote floor performance. Ready give employee later.\n"
     ]
    }
   ],
   "source": [
    "# description VARCHAR 255 \n",
    "\n",
    "from faker import Faker\n",
    "faker = Faker()\n",
    "\n",
    "def description():\n",
    "    return faker.text(255)\n",
    "\n",
    "\n",
    "print(description())"
   ]
  },
  {
   "cell_type": "code",
   "execution_count": 86,
   "metadata": {},
   "outputs": [
    {
     "name": "stdout",
     "output_type": "stream",
     "text": [
      "While east story forward begin. Purpose best structure worry require own operation rise. Bad realize just involve style goal key.\n",
      "Type answer senior structure. Buy window anyone.\n"
     ]
    }
   ],
   "source": [
    "# description VARCHAR 300 \n",
    "\n",
    "from faker import Faker\n",
    "faker = Faker()\n",
    "\n",
    "def description():\n",
    "    return faker.text(300)\n",
    "\n",
    "\n",
    "print(description())"
   ]
  },
  {
   "cell_type": "code",
   "execution_count": null,
   "metadata": {},
   "outputs": [],
   "source": [
    "# admin note\n",
    "\n",
    "from faker import Faker\n",
    "faker = Faker()\n",
    "\n",
    "def admin_note():\n",
    "    return faker.text(300)\n",
    "\n",
    "\n",
    "print(admin_note())"
   ]
  }
 ],
 "metadata": {
  "kernelspec": {
   "display_name": "Python 3.9.12 ('base')",
   "language": "python",
   "name": "python3"
  },
  "language_info": {
   "name": "python",
   "version": "3.9.12"
  },
  "orig_nbformat": 4,
  "vscode": {
   "interpreter": {
    "hash": "2a6ab36ddec6a32158539ded9b7e54ab825c8c5bd936c49414c96b4d7d15a3d8"
   }
  }
 },
 "nbformat": 4,
 "nbformat_minor": 2
}
