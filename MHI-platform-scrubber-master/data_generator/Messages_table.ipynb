{
 "cells": [
  {
   "cell_type": "code",
   "execution_count": 3,
   "metadata": {},
   "outputs": [],
   "source": [
    "import random \n",
    "import string\n",
    "from random import randrange\n",
    "from datetime import timedelta\n",
    "from datetime import datetime"
   ]
  },
  {
   "cell_type": "code",
   "execution_count": 3,
   "metadata": {},
   "outputs": [],
   "source": [
    "id = random.randint(1, 10000000000)\n",
    "\n",
    "conversation_id = random.randint(1, 10000000000)\n",
    "\n",
    "actor_id = random.randint(1, 10000000000)\n",
    "\n",
    "type = 1"
   ]
  },
  {
   "cell_type": "code",
   "execution_count": 4,
   "metadata": {},
   "outputs": [
    {
     "name": "stdout",
     "output_type": "stream",
     "text": [
      "Hello Shout, I am feeling considerably stressed about my current situation with my parents\n"
     ]
    }
   ],
   "source": [
    "intensity_dictionary = {1:'fairly', 2: 'quite', 3:'a little', 4:'slightly', 5:'somewhat', 6:'pretty', 7:'sort of', 8:'kind of', 9:'reasonably', 10:'considerably', 11:'very', 12:'reasonably', 13:'awfully', 14:'deeply', 15:'truly', 16:'unusually', 17:'seriously', 18:'extremely', 19:'particularly', 20:'extremely'}\n",
    "emotion_dictionary = {1:'sad', 2: 'upset', 3:'worried', 4:'anxious', 5:'heartbroken', 6:'somber', 7:'unhappy', 8:'dejected', 9:'dismal', 10:'stressed', 11:'distressed', 12:'glum', 13:'miserable', 14:'depressed', 15:'bad', 16:'enraged', 17:'agitated', 18:'angry', 19:'enraged', 20:'frustrated'}\n",
    "situation_dictionary = {1:'at home', 2:'at work', 3:'at the moment', 4:'with life', 5:'with family', 6:'with relationship', 7:'with friends', 8:'with my parents', 9:'in the matrix', 10:'with my development as a person' }\n",
    "\n",
    "mess_a = random.randint(1, 20)\n",
    "mess_b = random.randint(1, 10)\n",
    "\n",
    "message = f'Hello Shout, I am feeling {intensity_dictionary[mess_a]} {emotion_dictionary[mess_a]} about my current situation {situation_dictionary[mess_b]}' \n",
    "print(message)"
   ]
  },
  {
   "cell_type": "code",
   "execution_count": 15,
   "metadata": {},
   "outputs": [
    {
     "name": "stdout",
     "output_type": "stream",
     "text": [
      "2018-11-11 18:06:27\n"
     ]
    }
   ],
   "source": [
    "def random_date(start, end):\n",
    "\n",
    "    delta = end - start\n",
    "    int_delta = (delta.days * 24 * 60 * 60) + delta.seconds\n",
    "    random_second = randrange(int_delta)\n",
    "    return start + timedelta(seconds=random_second)\n",
    "\n",
    "d1 = datetime.strptime('1/1/2018 12:00 AM', '%m/%d/%Y %I:%M %p')\n",
    "d2 = datetime.strptime('12/31/2022 11:59 PM', '%m/%d/%Y %I:%M %p')\n",
    "\n",
    "timestamp = random_date(d1, d2)\n",
    "print(timestamp)"
   ]
  },
  {
   "cell_type": "code",
   "execution_count": 24,
   "metadata": {},
   "outputs": [
    {
     "name": "stdout",
     "output_type": "stream",
     "text": [
      "3ISG3IQJQQ\n",
      "NC5YLU8J7CL2ZGIJ6LXEHKCTMGWUHSYPX7QKOTMVXCI1CHMLNL\n"
     ]
    }
   ],
   "source": [
    "characters = string.ascii_letters.upper() + string.digits\n",
    "salt = ''.join(random.choice(characters) for i in range(10))\n",
    "print(salt)\n",
    "\n",
    "remote_message_id = ''.join(random.choice(characters) for i in range(50))\n",
    "print(remote_message_id)"
   ]
  },
  {
   "cell_type": "code",
   "execution_count": 1,
   "metadata": {},
   "outputs": [
    {
     "ename": "NameError",
     "evalue": "name 'random' is not defined",
     "output_type": "error",
     "traceback": [
      "\u001b[1;31m---------------------------------------------------------------------------\u001b[0m",
      "\u001b[1;31mNameError\u001b[0m                                 Traceback (most recent call last)",
      "\u001b[1;32mc:\\Users\\ZhentingHuo\\Desktop\\MHI Test Data\\de28MHI\\MHI-platform-scrubber-master\\data_generator\\Messages_table.ipynb Cell 6'\u001b[0m in \u001b[0;36m<cell line: 3>\u001b[1;34m()\u001b[0m\n\u001b[0;32m      <a href='vscode-notebook-cell:/c%3A/Users/ZhentingHuo/Desktop/MHI%20Test%20Data/de28MHI/MHI-platform-scrubber-master/data_generator/Messages_table.ipynb#ch0000005?line=0'>1</a>\u001b[0m mess_c \u001b[39m=\u001b[39m {\u001b[39m1\u001b[39m, \u001b[39m2\u001b[39m, \u001b[39m4\u001b[39m}\n\u001b[1;32m----> <a href='vscode-notebook-cell:/c%3A/Users/ZhentingHuo/Desktop/MHI%20Test%20Data/de28MHI/MHI-platform-scrubber-master/data_generator/Messages_table.ipynb#ch0000005?line=2'>3</a>\u001b[0m status \u001b[39m=\u001b[39m random\u001b[39m.\u001b[39mchoice(\u001b[39mtuple\u001b[39m(mess_c))\n\u001b[0;32m      <a href='vscode-notebook-cell:/c%3A/Users/ZhentingHuo/Desktop/MHI%20Test%20Data/de28MHI/MHI-platform-scrubber-master/data_generator/Messages_table.ipynb#ch0000005?line=4'>5</a>\u001b[0m \u001b[39mprint\u001b[39m(status)\n",
      "\u001b[1;31mNameError\u001b[0m: name 'random' is not defined"
     ]
    }
   ],
   "source": [
    "mess_c = {1, 2, 4}\n",
    "status = random.choice(tuple(mess_c))\n",
    "\n",
    "print(status)\n"
   ]
  },
  {
   "cell_type": "code",
   "execution_count": 26,
   "metadata": {},
   "outputs": [],
   "source": [
    "retries = ''\n",
    "delivery_error = 'Error: Unable to connect, please try again'\n",
    "media_uri = '' # varchar(300)\n",
    "media_mimetype = '' # varchar(50)\n"
   ]
  }
 ],
 "metadata": {
  "kernelspec": {
   "display_name": "Python 3.10.5 64-bit",
   "language": "python",
   "name": "python3"
  },
  "language_info": {
   "codemirror_mode": {
    "name": "ipython",
    "version": 3
   },
   "file_extension": ".py",
   "mimetype": "text/x-python",
   "name": "python",
   "nbconvert_exporter": "python",
   "pygments_lexer": "ipython3",
   "version": "3.10.5"
  },
  "orig_nbformat": 4,
  "vscode": {
   "interpreter": {
<<<<<<< HEAD
    "hash": "4f33418c6b082c494f1d79f967c13a76695d427915631b509ba1bca0dfdf6d08"
=======
    "hash": "aee8b7b246df8f9039afb4144a1f6fd8d2ca17a180786b69acc140d282b71a49"
>>>>>>> 59cfad99d535152d74e7eec31d62380abbcfc493
   }
  }
 },
 "nbformat": 4,
 "nbformat_minor": 2
}
